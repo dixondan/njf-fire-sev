{
 "cells": [
  {
   "cell_type": "markdown",
   "id": "ed004098",
   "metadata": {},
   "source": [
    "# Calculate area\n",
    "Calculate the area of each fire severity class for all wildfires and prescribed burns from 2005-2020 in the Northern Jarrah Forest, Western Australia (calculate the areas in Table 3 from Dixon et al., 2022) "
   ]
  },
  {
   "cell_type": "code",
   "execution_count": 12,
   "id": "ef6446ab",
   "metadata": {},
   "outputs": [],
   "source": [
    "import ee\n",
    "ee.Initialize() #be sure to run earthengine authenticate first\n",
    "import pandas as pd\n",
    "import geopandas as gpd\n",
    "import os\n",
    "import warnings\n",
    "warnings.filterwarnings('ignore')"
   ]
  },
  {
   "cell_type": "code",
   "execution_count": 8,
   "id": "91807a33",
   "metadata": {},
   "outputs": [],
   "source": [
    "# read the fire perimeter dataset (this is essentially DBCA-060 with a custom fire ID associated with each fire severity prediction)\n",
    "gdf = gpd.read_file(\"data/vector/DBCAFireHistory_2005_2020_gte50ha.shp\")\n",
    "# we're going to map over each unique fire ID to put those in a list\n",
    "fires = list(gdf['fireID'].unique())\n",
    "# create a variable for the ee image collection with predicted fire severity data\n",
    "imcol = ee.ImageCollection('projects/euc-fire-sw-2022/assets/severity_pred_forested')\n",
    "# this imcol dataset has already been processed to remove non-forestest areas according to Hansen global forest cover"
   ]
  },
  {
   "cell_type": "code",
   "execution_count": 9,
   "id": "899e4327",
   "metadata": {},
   "outputs": [
    {
     "name": "stdout",
     "output_type": "stream",
     "text": [
      "0279_f no prediction\n",
      "0610_f no prediction\n",
      "0909_f no prediction\n",
      "5325_f no prediction\n",
      "6408_f no prediction\n"
     ]
    }
   ],
   "source": [
    "# create a function that returns the area of each predicted fire severity class given the fire ID\n",
    "def get_severity_by_class(ID):\n",
    "    \n",
    "    # reference imcol from previous cell\n",
    "    img = imcol.filterMetadata('ID', 'equals', ID).first()\n",
    "    \n",
    "    # add an area band \n",
    "    area_img = ee.Image.pixelArea().divide(1e6) # original pixelArea band is in m2, have to convert to km2\n",
    "    # if you want hectares, replace 1e6 with 10000\n",
    "    # add that band to out img\n",
    "    img = img.addBands(area_img)\n",
    "    \n",
    "    # creating five masks and doing it separately to learn how the calculation works\n",
    "    c1_mask = img.select('f_severity').eq(1) \n",
    "    c1_area = img.updateMask(c1_mask).select('area').rename('c1_area') # class 1 area in km2\n",
    "\n",
    "    c2_mask = img.select('f_severity').eq(2)\n",
    "    c2_area = img.updateMask(c2_mask).select('area').rename('c2_area') # class 2 area in km2\n",
    "\n",
    "    c3_mask = img.select('f_severity').eq(3)\n",
    "    c3_area = img.updateMask(c3_mask).select('area').rename('c3_area') # class 3 area in km2\n",
    "\n",
    "    c4_mask = img.select('f_severity').eq(4)\n",
    "    c4_area = img.updateMask(c4_mask).select('area').rename('c4_area') # class 4 area in km2\n",
    "\n",
    "    c5_mask = img.select('f_severity').eq(5)\n",
    "    c5_area = img.updateMask(c5_mask).select('area').rename('c5_area') # class 5 area in km2\n",
    "    \n",
    "    # we're going to use the fire polygon to clip the raster to make sure we only quantify pixels within the \n",
    "    # fire polygon boundary\n",
    "    fire_poly = ee.FeatureCollection('projects/euc-fire-sw-2022/assets/data/DBCAFireHistory_2005_2020_gte50ha')\\\n",
    "          .filterMetadata('fireID','equals',f).first()\n",
    "    \n",
    "    # add the area bands for each severity class and then select only those\n",
    "    img = img.addBands([c1_area, c2_area, c3_area, c4_area, c5_area])\n",
    "    img = img.select(['c1_area', 'c2_area', 'c3_area', 'c4_area', 'c5_area'])\n",
    "    \n",
    "    # we're calling .getInfo() beware!! \n",
    "    area_sum = img.reduceRegion(reducer=ee.Reducer.sum(),geometry=fire_poly.geometry(),scale=30).getInfo()\n",
    "    \n",
    "    # putting our results into a pandas df\n",
    "    area_df = pd.DataFrame([area_sum])\n",
    "    area_df['f'] = f\n",
    "    return area_df\n",
    "\n",
    "\n",
    "# running this block should take a couple of minutes\n",
    "l = [] # make an empty list\n",
    "for f in fires:\n",
    "    try:\n",
    "        result = get_severity_by_class(f) # return the result to our list\n",
    "        l.append(result)\n",
    "        #print(f, 'completed') # print or not you decide\n",
    "    except:\n",
    "        print(f, 'no prediction') # we don't have a prediction for a few fires\n"
   ]
  },
  {
   "cell_type": "code",
   "execution_count": 16,
   "id": "0ab23169",
   "metadata": {},
   "outputs": [],
   "source": [
    "# we are going in to the modis dates dataset to tell us which was adjusted with modis and which was not\n",
    "df_dates = pd.read_csv(\"data/tables/all_fires_dates-start-end.csv\")\n",
    "df_dates['date_adj'].unique()\n",
    "det = df_dates[df_dates['date_adj'].isin(['modis_1k', 'modis_250m', 'manual'])]\n",
    "det['modis_det'] = 'modis'\n",
    "ndet = df_dates[df_dates['date_adj'].isin(['no_adj'])]\n",
    "ndet['modis_det'] = 'no_modis'\n",
    "c = pd.concat([det, ndet])\n",
    "# create two dictionaries -- one with modis detected and another with fire type (WF or PB)\n",
    "modis_dict = dict(zip(c['fireID'], c['modis_det']))\n",
    "type_dict = dict(zip(c['fireID'], c['fih_fire_t'])) "
   ]
  },
  {
   "cell_type": "code",
   "execution_count": 19,
   "id": "62e6a2a1",
   "metadata": {},
   "outputs": [
    {
     "data": {
      "text/html": [
       "<div>\n",
       "<style scoped>\n",
       "    .dataframe tbody tr th:only-of-type {\n",
       "        vertical-align: middle;\n",
       "    }\n",
       "\n",
       "    .dataframe tbody tr th {\n",
       "        vertical-align: top;\n",
       "    }\n",
       "\n",
       "    .dataframe thead th {\n",
       "        text-align: right;\n",
       "    }\n",
       "</style>\n",
       "<table border=\"1\" class=\"dataframe\">\n",
       "  <thead>\n",
       "    <tr style=\"text-align: right;\">\n",
       "      <th></th>\n",
       "      <th></th>\n",
       "      <th>c1_area</th>\n",
       "      <th>c2_area</th>\n",
       "      <th>c3_area</th>\n",
       "      <th>c4_area</th>\n",
       "      <th>c5_area</th>\n",
       "    </tr>\n",
       "    <tr>\n",
       "      <th>modis</th>\n",
       "      <th>type</th>\n",
       "      <th></th>\n",
       "      <th></th>\n",
       "      <th></th>\n",
       "      <th></th>\n",
       "      <th></th>\n",
       "    </tr>\n",
       "  </thead>\n",
       "  <tbody>\n",
       "    <tr>\n",
       "      <th rowspan=\"2\" valign=\"top\">modis</th>\n",
       "      <th>PB</th>\n",
       "      <td>1817.642568</td>\n",
       "      <td>2504.314715</td>\n",
       "      <td>2116.093765</td>\n",
       "      <td>900.343031</td>\n",
       "      <td>203.380862</td>\n",
       "    </tr>\n",
       "    <tr>\n",
       "      <th>WF</th>\n",
       "      <td>66.688452</td>\n",
       "      <td>103.583322</td>\n",
       "      <td>419.820752</td>\n",
       "      <td>566.412887</td>\n",
       "      <td>682.562411</td>\n",
       "    </tr>\n",
       "    <tr>\n",
       "      <th rowspan=\"2\" valign=\"top\">no_modis</th>\n",
       "      <th>PB</th>\n",
       "      <td>266.855397</td>\n",
       "      <td>157.738154</td>\n",
       "      <td>70.544681</td>\n",
       "      <td>16.544002</td>\n",
       "      <td>1.593697</td>\n",
       "    </tr>\n",
       "    <tr>\n",
       "      <th>WF</th>\n",
       "      <td>2.712354</td>\n",
       "      <td>2.508251</td>\n",
       "      <td>7.829166</td>\n",
       "      <td>5.132283</td>\n",
       "      <td>3.451964</td>\n",
       "    </tr>\n",
       "  </tbody>\n",
       "</table>\n",
       "</div>"
      ],
      "text/plain": [
       "                   c1_area      c2_area      c3_area     c4_area     c5_area\n",
       "modis    type                                                               \n",
       "modis    PB    1817.642568  2504.314715  2116.093765  900.343031  203.380862\n",
       "         WF      66.688452   103.583322   419.820752  566.412887  682.562411\n",
       "no_modis PB     266.855397   157.738154    70.544681   16.544002    1.593697\n",
       "         WF       2.712354     2.508251     7.829166    5.132283    3.451964"
      ]
     },
     "execution_count": 19,
     "metadata": {},
     "output_type": "execute_result"
    }
   ],
   "source": [
    "# put together the results from get_severity_by_class()\n",
    "df2 = pd.concat(l)\n",
    "df2['modis'] = df2['f'].map(modis_dict) # apply the modis and type dicts to group by those variables\n",
    "df2['type'] = df2['f'].map(type_dict)\n",
    "final_area = df2.groupby(['modis','type'])['c1_area','c2_area','c3_area','c4_area','c5_area'].sum()\n",
    "final_area\n",
    "# below should be Table 3 in the paper"
   ]
  }
 ],
 "metadata": {
  "kernelspec": {
   "display_name": "Python 3 (ipykernel)",
   "language": "python",
   "name": "python3"
  },
  "language_info": {
   "codemirror_mode": {
    "name": "ipython",
    "version": 3
   },
   "file_extension": ".py",
   "mimetype": "text/x-python",
   "name": "python",
   "nbconvert_exporter": "python",
   "pygments_lexer": "ipython3",
   "version": "3.8.12"
  }
 },
 "nbformat": 4,
 "nbformat_minor": 5
}
