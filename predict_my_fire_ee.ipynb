{
 "cells": [
  {
   "cell_type": "markdown",
   "id": "34c05bc1",
   "metadata": {},
   "source": [
    "# Predict severity of any fire\n",
    "In this notebook we will predict fire severity of the Wooroloo bushfire from 2021 with known start and end dates. It will look something like this:"
   ]
  },
  {
   "cell_type": "markdown",
   "id": "304b195a",
   "metadata": {},
   "source": [
    "\n",
    "<div>\n",
    "<img src=\"figs/bushfire_fig1.png\" width=\"75%\"/>\n",
    "</div>\n"
   ]
  },
  {
   "cell_type": "markdown",
   "id": "ef4e7a06",
   "metadata": {},
   "source": [
    "<center>Here are the five classes we want to predict:</center>\n",
    "<img src=\"figs/classes.png\">"
   ]
  },
  {
   "cell_type": "markdown",
   "id": "462f4c21",
   "metadata": {},
   "source": [
    "## We need three things to compute severity for a given fire\n",
    "1. Polygon representing fire perimeter (shapefile or ee geometry polygon)\n",
    "2. Date of fire start\n",
    "3. Date of fire end\n",
    "\n",
    "Note: Dates do not need to be exact but preferably burning does not occur between the defined start and end dates\n",
    " \n"
   ]
  },
  {
   "cell_type": "code",
   "execution_count": 1,
   "id": "a16e616e",
   "metadata": {},
   "outputs": [],
   "source": [
    "import ee # to run this code you'll need to have an earth engine account and authenticated on your machine OR run in Google Colab\n",
    "ee.Initialize() # if you're struggling to get it running, send me an email 1dandixon@gmail.com"
   ]
  },
  {
   "cell_type": "code",
   "execution_count": 23,
   "id": "5b4fb729",
   "metadata": {},
   "outputs": [],
   "source": [
    "import geopandas as gpd\n",
    "import pandas as pd\n",
    "import numpy as np\n",
    "#pd.set_option('display.float_format', lambda x: '%.0f' % x)\n",
    "import subprocess\n",
    "import sys\n",
    "sys.path.insert(0, 'utils')\n",
    "# functions to work with landsat data in earthengine\n",
    "import landsat_utils as lsat\n",
    "import fires_utils as fu\n",
    "import params\n",
    "import vi as vi\n",
    "import geemap # install with pip"
   ]
  },
  {
   "cell_type": "code",
   "execution_count": 3,
   "id": "bdadcb09",
   "metadata": {},
   "outputs": [],
   "source": [
    "# grab a fire perimeter shapefile and convert to an aoi feature for EE to read\n",
    "gdf = gpd.read_file(\"data/tutorial/f_ex2021.shp\")\n",
    "gdf = gdf.to_crs(\"EPSG:4326\")\n",
    "g = [i for i in gdf.geometry]\n",
    "x,y = g[0].exterior.coords.xy\n",
    "coords = np.dstack((x,y)).tolist()\n",
    "g = ee.Geometry.Polygon(coords)\n",
    "fire_poly = ee.Feature(g)\n",
    "\n",
    "# Date information\n",
    "date_start = ee.Date('2020-02-01')\n",
    "date_end = ee.Date('2021-02-05')\n"
   ]
  },
  {
   "cell_type": "code",
   "execution_count": 4,
   "id": "42ea3987",
   "metadata": {},
   "outputs": [],
   "source": [
    "# get Landsat data for predicting fires\n",
    "oliCol = ee.ImageCollection('LANDSAT/LC08/C01/T1_SR')\n",
    "etmCol = ee.ImageCollection('LANDSAT/LE07/C01/T1_SR')\n",
    "tmCol = ee.ImageCollection('LANDSAT/LT05/C01/T1_SR')\n",
    "\n",
    "# filter Landsat data for aoi and QA\n",
    "colFilter = ee.Filter.And(\n",
    "            ee.Filter.bounds(fire_poly.geometry()),\n",
    "            ee.Filter.lt('CLOUD_COVER', 50))\n",
    "\n",
    "oliCol = oliCol.filter(colFilter).map(lsat.prepOli)\n",
    "etmCol = etmCol.filter(colFilter).map(lsat.prepEtm)\n",
    "tmCol = tmCol.filter(colFilter).map(lsat.prepEtm)\n",
    "\n",
    "landsat = oliCol.merge(etmCol).merge(tmCol)\n",
    "\n",
    "landsat = landsat.map(lsat.rescale)\\\n",
    "                     .map(vi.getNBR)\\\n",
    "                     .map(vi.getNDVI)\\\n",
    "                     .map(vi.getNDWI)\\\n",
    "                     .map(vi.getVARI)\\\n",
    "                     .map(vi.getMSAVI)\\\n",
    "                     .map(vi.getBAI)\\\n",
    "                     .map(vi.getMIRBI)\\\n",
    "                     .map(vi.getCSI)\n",
    "\n",
    "# prediction fires -- want to\n",
    "fire_polygons = ee.FeatureCollection('projects/euc-fire-sw-2022/assets/data/DBCAFireHistory_2005_2020_gte50ha')\n",
    "\n",
    "# get all fire extents to mask out forested areas to achieve phenology offset -- this should be publically accessible\n",
    "all_fires_coll = ee.FeatureCollection('users/danieljdixon1991/NJF/Fire/paper2/data/DBCAFireHistory_2005_2021_all_fires_explode_wID_edited_geometry2')\n"
   ]
  },
  {
   "cell_type": "code",
   "execution_count": 5,
   "id": "3ad52cc0",
   "metadata": {},
   "outputs": [],
   "source": [
    "''' define the pre and post median composites to use for generating predictors '''\n",
    "fire_poly_buffer = fire_poly.buffer(2000)\n",
    "\n",
    "# get pre and post landsat dates\n",
    "date_pre = date_start.advance(-128, 'day')\n",
    "date_post = date_end.advance(64, 'day') # search window used post-fire\n",
    "\n",
    "# filter Landsat data for fire date and extent\n",
    "ls_temp = landsat.filter(ee.Filter.date(date_pre, date_post))\\\n",
    "                 .filterBounds(fire_poly_buffer.geometry())\\\n",
    "                 .select(['NBR', 'NDVI', 'NDWI', 'VARI', 'MSAVI', 'BAI', 'MIRBI', 'CSI'])\n",
    "\n",
    "pre = ls_temp.filterDate(date_pre, date_start.advance(-1, 'day')).median()\n",
    "post = ls_temp.filterDate(date_end.advance(1, 'day'), date_post).median()"
   ]
  },
  {
   "cell_type": "code",
   "execution_count": 6,
   "id": "a19a4750",
   "metadata": {},
   "outputs": [],
   "source": [
    "''' start working with pre and post image composites to generate predictors'''\n",
    "# NBR\n",
    "NBR_pre = pre.select('NBR').rename('NBR_pre')\n",
    "dNBR = NBR_pre.subtract(post.select('NBR')).rename('dNBR')\n",
    "\n",
    "# NDVI\n",
    "NDVI_pre = pre.select('NDVI').rename('NDVI_pre')\n",
    "dNDVI = NDVI_pre.subtract(post.select('NDVI')).rename('dNDVI')\n",
    "\n",
    "# NDWI\n",
    "NDWI_pre = pre.select('NDWI').rename('NDWI_pre')\n",
    "dNDWI = NDWI_pre.subtract(post.select('NDWI')).rename('dNDWI')\n",
    "\n",
    "# VARI\n",
    "VARI_pre = pre.select('VARI').rename('VARI_pre')\n",
    "dVARI = VARI_pre.subtract(post.select('VARI')).rename('dVARI')\n",
    "\n",
    "# MSAVI\n",
    "MSAVI_pre = pre.select('MSAVI').rename('MSAVI_pre')\n",
    "dMSAVI = MSAVI_pre.subtract(post.select('MSAVI')).rename('dMSAVI')\n",
    "\n",
    "# BAI\n",
    "BAI_post = post.select('BAI').rename('BAI_post')\n",
    "\n",
    "# MIRBI\n",
    "MIRBI_post = post.select('MIRBI').rename('MIRBI_post')\n",
    "\n",
    "# CSI\n",
    "CSI_post = post.select('CSI').rename('CSI_post')\n",
    "\n",
    "# current variables\n",
    "VARS = NBR_pre.addBands([dNBR, NDVI_pre, dNDVI, NDWI_pre, dNDWI, VARI_pre, dVARI,\n",
    "                         MSAVI_pre, dMSAVI, BAI_post, MIRBI_post, CSI_post])"
   ]
  },
  {
   "cell_type": "code",
   "execution_count": 7,
   "id": "fcd4ae02",
   "metadata": {},
   "outputs": [],
   "source": [
    "''' have to calculate phenology offset '''\n",
    "# making the two buffers\n",
    "fire_poly_1000 = fire_poly.buffer(1000)\n",
    "fire_poly_2000 = fire_poly.buffer(2000)\n",
    "\n",
    "# here getting all fires occuring within 2km of the fire polygon +- 1 year\n",
    "all_fires = all_fires_coll.map(fu.addDate2Fire)\n",
    "temp_fires = all_fires.filterDate(date_start.advance(-365, 'day'), date_end.advance(365, 'day')) \\\n",
    "    .filterBounds(fire_poly_2000.geometry())\n",
    "\n",
    "# find the difference between buffer 2000 and buffer 1000 -- this is the area to calculate the phenology offset\n",
    "b_difference = fire_poly_2000.symmetricDifference(fire_poly_1000, 1)\n",
    "\n",
    "# merge all fires into one\n",
    "union = temp_fires.union(1)\n",
    "union = union.map(fu.add_union_props)\n",
    "union_img = union.reduceToImage(\n",
    "    properties=['union'],\n",
    "    reducer=ee.Reducer.first())\n",
    "fire_mask = union_img.unmask().neq(1)\n",
    "\n",
    "forest_cover = ee.Image(\"UMD/hansen/global_forest_change_2020_v1_8\")\n",
    "\n",
    "loss = forest_cover.select('loss').neq(1)\n",
    "# remove pixels that lost forest at some point in the image collection\n",
    "forest_cover_tmp = forest_cover.updateMask(loss)\n",
    "# remove other fires that happened nearby +- 1 year from the fire of interest (within 1-2 km buffer)\n",
    "forest_cover_tmp = forest_cover_tmp.updateMask(fire_mask)\n",
    "forest_cover_mask = forest_cover_tmp.select('treecover2000').gt(10)\n",
    "\n",
    "# find the difference between buffer 2000 and buffer 1000 -- this is the area to calculate the phenology offset\n",
    "b_difference = fire_poly_2000.symmetricDifference(fire_poly_1000, 1)\n",
    "\n",
    "VARS_temp = VARS.updateMask(forest_cover_mask)\n",
    "\n",
    "offsets = VARS_temp.reduceRegion(reducer=ee.Reducer.median(),\n",
    "                                 geometry=b_difference.geometry(),\n",
    "                                 scale=30)\n",
    "\n",
    "offsets = ee.Dictionary(ee.FeatureCollection(offsets))\n",
    "\n",
    "# a dictionary of offsets to apply to each band in the next step\n",
    "VARS = VARS.addBands(VARS.select('dNBR').subtract(ee.Number(offsets.get('dNBR'))).rename('dNBR_off'))\n",
    "VARS = VARS.addBands(VARS.select('dNDVI').subtract(ee.Number(offsets.get('dNDVI'))).rename('dNDVI_off'))\n",
    "VARS = VARS.addBands(VARS.select('dNDWI').subtract(ee.Number(offsets.get('dNDWI'))).rename('dNDWI_off'))\n",
    "VARS = VARS.addBands(VARS.select('dVARI').subtract(ee.Number(offsets.get('dVARI'))).rename('dVARI_off'))\n",
    "VARS = VARS.addBands(VARS.select('dMSAVI').subtract(ee.Number(offsets.get('dMSAVI'))).rename('dMSAVI_off'))\n",
    "VARS = VARS.addBands(VARS.select('BAI_post').subtract(ee.Number(offsets.get('BAI_post'))).rename('BAI_post_off'))\n",
    "VARS = VARS.addBands(VARS.select('CSI_post').subtract(ee.Number(offsets.get('CSI_post'))).rename('CSI_post_off'))\n",
    "VARS = VARS.addBands(\n",
    "    VARS.select('MIRBI_post').subtract(ee.Number(offsets.get('MIRBI_post'))).rename('MIRBI_post_off'))\n",
    "\n",
    "VARS = VARS.select(\n",
    "    ['dNBR_off', 'dNDVI_off', 'dNDWI_off', 'dVARI_off', 'dMSAVI_off',\n",
    "     'BAI_post_off', 'CSI_post_off', 'MIRBI_post_off',\n",
    "     'NBR_pre', 'NDVI_pre', 'NDWI_pre', 'VARI_pre', 'MSAVI_pre'])\n",
    "\n",
    "# VARS is now ready to get predicted on"
   ]
  },
  {
   "cell_type": "code",
   "execution_count": 9,
   "id": "0a3ab03e",
   "metadata": {},
   "outputs": [
    {
     "name": "stdout",
     "output_type": "stream",
     "text": [
      "Validation overall accuracy:  0.8419458303635068\n",
      "Validation kappa:  0.7989093662412701\n"
     ]
    }
   ],
   "source": [
    "# have to train the random forest \n",
    "variables = ['BAI_post_off', 'CSI_post_off',\n",
    "             'MIRBI_post_off', 'MSAVI_pre',\n",
    "             'NBR_pre', 'NDVI_pre', 'NDWI_pre',\n",
    "             'VARI_pre', 'dMSAVI_off', 'dNBR_off',\n",
    "             'dNDVI_off', 'dNDWI_off','dVARI_off']\n",
    "\n",
    "data = ee.FeatureCollection("projects/euc-fire-sw-2022/assets/data/train_test_table")\n",
    "training_data = data.filter(ee.Filter.inList(\"fire\", params.train_fires))\n",
    "testing_data = data.filter(ee.Filter.inList(\"fire\", params.test_fires))\n",
    "\n",
    "classifier = ee.Classifier.smileRandomForest(500, seed = 0).train(\n",
    "                                features=training_data,\n",
    "                                classProperty='obs',\n",
    "                                inputProperties=variables)\n",
    "\n",
    "''' overall across all 30 test fires'''\n",
    "validation = testing_data.classify(classifier)\n",
    "testMatrix = validation.errorMatrix('obs', 'classification')\n",
    "mat = testMatrix.getInfo()\n",
    "acc = testMatrix.accuracy().getInfo()\n",
    "kappa = testMatrix.kappa().getInfo()\n",
    "print('Validation overall accuracy: ', acc)\n",
    "print('Validation kappa: ', kappa)\n"
   ]
  },
  {
   "cell_type": "code",
   "execution_count": 28,
   "id": "c4000d21",
   "metadata": {},
   "outputs": [],
   "source": [
    "# time to predict on our VARS variable\n",
    "\n",
    "classified = VARS.select(variables).classify(classifier)\n",
    "classified = classified.select('classification')\n",
    "\n",
    "classified = classified.set(\"system:time_start\", date_start.millis())\n",
    "#classified = classified.set(\"ID\", f) #set an ID if you have one\n",
    "classified = classified.clip(fire_poly.geometry())\n",
    "classified = classified.toByte() # only has values from 1-5 so reduce file size \n",
    "#classified.getInfo()"
   ]
  },
  {
   "cell_type": "code",
   "execution_count": 39,
   "id": "bd2c226f",
   "metadata": {},
   "outputs": [
    {
     "data": {
      "application/vnd.jupyter.widget-view+json": {
       "model_id": "3102dd155bef46de9b26ed91a4090719",
       "version_major": 2,
       "version_minor": 0
      },
      "text/plain": [
       "Map(center=[-31.746299396098266, 116.17023664226159], controls=(WidgetControl(options=['position', 'transparen…"
      ]
     },
     "metadata": {},
     "output_type": "display_data"
    }
   ],
   "source": [
    "# put it on the map\n",
    "x,y = fire_poly.centroid().getInfo()['geometry']['coordinates']\n",
    "# call geemap for plotting \n",
    "Map = geemap.Map(center=(y, x), zoom = 11, basemap = 'SATELLITE')\n",
    "# add the fire polygon of interest\n",
    "Map.addLayer(fire_poly)\n",
    "\n",
    "# to visualize burn area (BA) julien dates of fire from MODIS at 250 m resolution\n",
    "visParams = {\n",
    "  'min': 1,\n",
    "  'max': 5,\n",
    "  'palette' : ['#2c7bb6', '#abd9e9','#ffffbf', '#fdae61','#d7191c']}\n",
    "    \n",
    "Map.addLayer(classified.select('classification'), visParams)\n",
    "Map"
   ]
  }
 ],
 "metadata": {
  "kernelspec": {
   "display_name": "Python 3 (ipykernel)",
   "language": "python",
   "name": "python3"
  },
  "language_info": {
   "codemirror_mode": {
    "name": "ipython",
    "version": 3
   },
   "file_extension": ".py",
   "mimetype": "text/x-python",
   "name": "python",
   "nbconvert_exporter": "python",
   "pygments_lexer": "ipython3",
   "version": "3.8.12"
  }
 },
 "nbformat": 4,
 "nbformat_minor": 5
}
